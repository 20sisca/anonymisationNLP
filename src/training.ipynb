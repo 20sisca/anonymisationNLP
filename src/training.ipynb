{
 "cells": [
  {
   "cell_type": "code",
   "execution_count": 32,
   "id": "79be6192-8f8c-41cd-b61e-a6617d575268",
   "metadata": {},
   "outputs": [
    {
     "name": "stdout",
     "output_type": "stream",
     "text": [
      "[{'text': \"COUR DE CASSATION \\n Première Présidence\\n _______\\n \\n N/réf à rappeler : Ord n° 31656\\n Pourvoi N° : D 22-23.988\\n Demanderesse : La Ste Excilys\\n représentée par la SCP Bénabent\\n Défendeur : Monsieur le procureur général près la cour d'appel de Paris\\n \\n \\n \\n ORDONNANCE\\n \\n de la déléguée du premier président de la Cour de cassation,\\n \\n \\n Vu le pourvoi n°D 22-23.988, formé par la société Excilys le 9 décembre 2022 contre un arrêt (RG: 22/19210) rendu le 29 novembre 2022 par la cour d'appel d'Aix-en-Provence pôle 1 chambre 7 ; \\n \\n Vu la constitution en demande de la SCP Bénabent pour la société Excilys ;\\n \\n Vu le mémoire ampliatif déposé le 15 décembre 2022 ;\\n \\n Vu la requête présentée le 15 décembre 2022 par la société Excilys et tendant à l'application de l'article 1009 du code de procédure civile ;\\n \\n Vu l'avis présenté par M. le procureur général le 20 décembre 2022 ;\\n \\n S'agissant d'un litige incident intervenant à l'occasion d'une instance actuellement pendante devant les juridictions du fond et portant sur une demande de récusation qui a vocation à être jugée rapidement, il y a lieu, de faire application des dispositions de l'article susvisé afin qu'il soit statué sur la procédure dans les meilleurs délais.\\n \\n En conséquence,\\n \\n Le délai imparti pour le dépôt du mémoire en défense est réduit à 1 mois, à compter de la notification de la présente ordonnance à M. le procureur général près la cour d'appel de Paris.\\n \\n Fait à Paris, le 27 décembre 2022\\n La conseillère référendaire déléguée,\\n \\n \\n \\n Caroline Azar\", 'id': '63abeebf762e1705df95a59f', 'protagonistsPositions': []}, {'text': \"COUR DE CASSATION \\n Première Présidence\\n _______\\n \\n N/réf à rappeler : Ord n° 31657\\n Pourvoi N° : E 22-23.989\\n Demanderesse : La Ste Oxyl Sarl\\n représentée par la SCP Bénabent\\n Défendeur : Monsieur le procureur général près la cour d'appel de Paris\\n \\n \\n ORDONNANCE\\n \\n de la déléguée du premier président de la Cour de cassation,\\n \\n \\n Vu le pourvoi n°E 22-23.989, formé par la société Oxyl Sarl le 9 décembre 2022 contre un arrêt (RG: 22/19321) rendu le 29 novembre 2022 par la cour d'appel d'Aix-en-Provence pôle 1 chambre 7 ; \\n \\n Vu la constitution en demande de la SCP Bénabent pour la société Oxyl Sarl; \\n \\n Vu le mémoire ampliatif déposé le 15 décembre 2022 ;\\n \\n Vu la requête présentée le 15 décembre 2022 par la société Oxyl Sarl et tendant à l'application de l'article 1009 du code de procédure civile ;\\n \\n Vu l'avis présenté par M. le procureur général le 20 décembre 2022 ;\\n \\n S'agissant d'un litige incident intervenant à l'occasion d'une instance actuellement pendante devant les juridictions du fond et portant sur une demande de récusation qui a vocation à être jugée rapidement, il y a lieu, de faire application des dispositions de l'article susvisé afin qu'il soit statué sur la procédure dans les meilleurs délais. \\n En conséquence,\\n \\n Le délai imparti pour le dépôt du mémoire en défense est réduit à 1 mois, à compter de la notification de la présente ordonnance à M. le procureur général près la cour d'appel de Paris.\\n \\n Fait à Paris, le 27 décembre 2022\\n La conseillère référendaire déléguée,\\n \\n \\n \\n Caroline Azar\", 'id': '63abeec3762e1705df95a5a1', 'protagonistsPositions': []}, {'text': \"SOC.\\n \\n CH9\\n \\n \\n \\n COUR DE CASSATION\\n ______________________\\n \\n \\n Audience publique du 14 décembre 2022\\n \\n \\n \\n \\n Cassation partielle\\n \\n \\n Mme CAPITAINE, conseiller doyen \\n faisant fonction de président\\n \\n \\n \\n Arrêt n° 1347 F-D\\n \\n Pourvoi n° N 21-18.633 \\n \\n \\n \\n \\n R É P U B L I Q U E F R A N Ç A I S E \\n \\n _________________________\\n \\n AU NOM DU PEUPLE FRANÇAIS\\n _________________________\\n \\n \\n ARRÊT DE LA COUR DE CASSATION, CHAMBRE SOCIALE, DU 14 DÉCEMBRE 2022\\n \\n M. Paul Lopez, domicilié [Adresse 2], a formé le pourvoi n° N 21-18.633 contre l'arrêt rendu le 13 janvier 2021 par la cour d'appel de Montpellier (2e chambre sociale), dans le litige l'opposant à la société Sunpower Energy Solutions France, anciennement dénommée société Tenesol, dont le siège est [Adresse 1], défenderesse à la cassation.\\n \\n Le demandeur invoque, à l'appui de son pourvoi, le moyen unique de cassation annexé au présent arrêt.\\n \\n Le dossier a été communiqué au procureur général.\\n \\n Sur le rapport de Mme Laplume, conseiller référendaire, les observations de la SCP Thouvenin, Coudray et Grévy, avocat de M. Lopez, de la SCP Spinosi, avocat de la société Sunpower Energy Solutions France, après débats en l'audience publique du 25 octobre 2022 où étaient présents Mme Capitaine, conseiller doyen faisant fonction de président, Mme Laplume, conseiller référendaire rapporteur, Mme Lacquemant, conseiller, et Mme Pontonnier, greffier de chambre,\\n \\n la chambre sociale de la Cour de cassation, composée des président et conseillers précités, après en avoir délibéré conformément à la loi, a rendu le présent arrêt.\\n \\n Faits et procédure\\n \\n 1. Selon l'arrêt attaqué (Montpellier, 13 janvier 2021), M. Lopez a été engagé le 21 novembre 2007 en qualité de délégué commercial itinérant sur la zone géographique du Languedoc Roussillon, par la société Tenesol, aux droits de laquelle vient la société Sunpower Energy Solutions France.\\n \\n 2. Son contrat de travail comportait une clause de mobilité stipulant que le salarié « s'engage à accepter toute mutation dans un autre établissement ou filiale, situés en France métropolitaine ».\\n \\n 3. Le 2 mars 2015, l'employeur, mettant en oeuvre la clause de mobilité, a envisagé une mutation que le salarié a refusée. Celui-ci a alors été licencié le 5 juin 2015.\\n \\n 4. Contestant son licenciement et la validité de la clause de mobilité contractuelle, le salarié a saisi la juridiction prud'homale.\\n \\n Examen du moyen\\n \\n Enoncé du moyen\\n \\n 5. Le salarié fait grief à l'arrêt de dire son licenciement fondé sur une cause réelle et sérieuse, de rejeter ses demandes tendant à voir juger nulle la clause de mobilité et sans cause réelle et sérieuse son licenciement et de le débouter de ses demandes subséquentes à titre de réintégration, de rappel de salaire, de dommages-intérêts pour licenciement sans cause réelle et sérieuse, et de dommages-intérêts pour exécution déloyale du contrat de travail, alors « que le salarié ne peut accepter par avance un changement d'employeur ; que la clause de mobilité par laquelle le salarié lié par contrat de travail à une société s'est engagé à accepter toute mutation dans une autre société, alors même que cette société appartiendrait au même groupe, est nulle, peu important que la mobilité effectivement mise en oeuvre n'implique pas un changement d'employeur ; qu'après avoir relevé que le contrat de travail comportait une clause de mobilité stipulant que le salarié ''s'engage à accepter toute mutation dans un autre établissement ou filiale, situés en France métropolitaine'', la cour d'appel a exactement constaté que ''la clause de mobilité susvisée mentionne effectivement les filiales du groupe lesquelles ne sont pas énumérées dans le contrat'' ; qu'en estimant cependant que la clause n'encourt pas la nullité mais doit ''être cantonnée aux seuls établissements de la société existants au moment de la conclusion du contrat'', la cour d'appel a violé les articles L. 1221-1 du code du travail et 1103 du code civil. »\\n \\n Réponse de la Cour\\n \\n Vu l'article L. 1221-1 du code du travail :\\n \\n 6. Aux termes de ce texte, le contrat de travail est soumis aux règles de droit commun et peut être établi selon les formes que les parties décident d'adopter.\\n \\n 7. Pour dire le licenciement fondé sur une cause réelle et sérieuse et débouter le salarié de ses demandes à ce titre, l'arrêt retient que, si la clause de mobilité mentionne effectivement les filiales du groupe, lesquelles ne sont pas énumérées dans le contrat, elle n'encourt pas pour autant la nullité mais doit être cantonnée aux seuls établissements de la société existants au moment de la conclusion du contrat. Il ajoute que l'employeur a souhaité faire jouer la clause de mobilité insérée au contrat de travail et acceptée sans réserves par le salarié, en vue d'une mutation vers le siège de la société situé à [Localité 3] dans le département du Rhône auquel il était administrativement rattaché selon les termes de son contrat de travail et qu'il connaissait parfaitement pour s'y rendre deux fois par mois pour l'exercice de ses fonctions, la mutation envisagée n'impliquant ni changement d'employeur ni modification des conditions de travail et le salarié conservant la possibilité de travailler à domicile.\\n \\n 8. En statuant ainsi, alors qu'un salarié ne peut accepter par avance un changement d'employeur et que la clause de mobilité par laquelle le salarié lié par un contrat de travail à une société s'est engagé à accepter toute mutation dans une autre société, alors même que cette société appartiendrait au même groupe, est nulle, la cour d'appel a violé le texte susvisé. \\n \\n Portée et conséquences\\n \\n 9. La cassation prononcée n'atteint pas le chef de dispositif évoqué par le moyen rejetant la demande du salarié en dommages-intérêts pour exécution déloyale du contrat de travail.\\n \\n PAR CES MOTIFS, la Cour :\\n \\n CASSE ET ANNULE, sauf en ce qu'il rejette la demande de dommages-intérêts pour exécution déloyale du contrat de travail, l'arrêt rendu le 13 janvier 2021, entre les parties, par la cour d'appel de Montpellier ;\\n \\n Remet, sauf sur ce point, l'affaire et les parties dans l'état où elles se trouvaient avant cet arrêt et les renvoie devant la cour d'appel de Nîmes ;\\n \\n Condamne la société Sunpower Energy Solutions France aux dépens ;\\n \\n En application de l'article 700 du code de procédure civile, rejette la demande formée par la société Sunpower Energy Solutions France aux dépens et la condamne à payer à M. Lopez la somme de 3 000 euros ;\\n \\n Dit que sur les diligences du procureur général près la Cour de cassation, le présent arrêt sera transmis pour être transcrit en marge ou à la suite de l'arrêt partiellement cassé ;\\n \\n Ainsi fait et jugé par la Cour de cassation, chambre sociale, et prononcé par le président en son audience publique du quatorze décembre deux mille vingt-deux.\\n MOYEN ANNEXE au présent arrêt\\n \\n Moyen produit par la SCP Thouvenin, Coudray et Grévy, avocat aux Conseils, pour M. Lopez\\n \\n M. Lopez fait grief à l'arrêt attaqué d'AVOIR dit son licenciement fondé sur une cause réelle et sérieuse, de l'AVOIR débouté de ses demandes tendant à voir dire et juger que la clause de mobilité est nulle et de nul effet, que son licenciement est sans cause réelle et sérieuse et de ses demandes subséquentes à titre de réintégration, de rappel de salaire, subsidiairement de dommages et intérêts pour licenciement sans cause réelle et sérieuse, et d'AVOIR confirmé le jugement en ce qu'il a rejeté sa demande de dommages et intérêts pour exécution déloyale du contrat de travail.\\n \\n ALORS QUE le salarié ne peut accepter par avance un changement d'employeur ; que la clause de mobilité par laquelle le salarié lié par contrat de travail à une société s'est engagé à accepter toute mutation dans une autre société, alors même que cette société appartiendrait au même groupe, est nulle, peu important que la mobilité effectivement mise en \\x9cuvre n'implique pas un changement d'employeur ; qu'après avoir relevé que le contrat de travail comportait une clause de mobilité stipulant que le salarié « s'engage à accepter toute mutation dans un autre établissement ou filiale, situés en France métropolitaine », la cour d'appel a exactement constaté que « la clause de mobilité susvisée mentionne effectivement les filiales du groupe lesquelles ne sont pas énumérées dans le contrat » ; qu'en estimant \\n cependant que la clause n'encourt pas la nullité mais doit « être cantonnée aux seuls établissements de la société existants au moment de la conclusion du contrat », la cour d'appel a violé les articles L. 1221-1 du code du travail et 1103 du code civil.\", 'id': '63997d03b7ec7f05d42d81c1', 'protagonistsPositions': [[471, 476], [1090, 1095], [1679, 1684], [6470, 6475], [6967, 6972], [6979, 6984], [466, 470]]}]\n"
     ]
    }
   ],
   "source": [
    "# Import necessary libraries\n",
    "import spacy\n",
    "from spacy.training.example import Example\n",
    "import random\n",
    "import json\n",
    "\n",
    "# Load your dataset in JSON format\n",
    "# Replace 'your_dataset.json' with the path to your JSON dataset\n",
    "# The JSON should have a list of objects with 'text' and 'label' keys\n",
    "with open('../dataset2.json', 'r') as file:\n",
    "    data = json.load(file)\n",
    "print(data[:3])"
   ]
  },
  {
   "cell_type": "code",
   "execution_count": null,
   "id": "19268c25-4e65-4944-9b96-aafcc7a36f67",
   "metadata": {},
   "outputs": [],
   "source": []
  },
  {
   "cell_type": "code",
   "execution_count": 21,
   "id": "aa98c64b-600f-483d-a18b-810dd34bddd8",
   "metadata": {},
   "outputs": [],
   "source": [
    "from sklearn.model_selection import train_test_split\n",
    "\n",
    "# Create a spaCy training data format\n",
    "# This assumes binary classification (you can modify it for multi-class)\n",
    "train_data = []\n",
    "for entry in data:\n",
    "    text = entry['text']\n",
    "    label = \"PROTAGONISTS\"\n",
    "    positions = entry[\"protagonistsPositions\"]\n",
    "    pos_with_label = []\n",
    "    for pos in positions:\n",
    "        pos_with_label.append((pos[0],pos[1], label))\n",
    "    pos_with_label = list(set(pos_with_label))\n",
    "    ents = {\"entities\": pos_with_label}\n",
    "    \n",
    "    train_data.append((text, ents))\n",
    "\n",
    "\n",
    "# Split the examples into training and evaluation sets\n",
    "train_data, eval_data = train_test_split(train_data, test_size=0.2, random_state=42)\n",
    "\n"
   ]
  },
  {
   "cell_type": "code",
   "execution_count": 15,
   "id": "84a92285-8122-4c13-8611-89a7e3cdf2e2",
   "metadata": {},
   "outputs": [],
   "source": []
  },
  {
   "cell_type": "code",
   "execution_count": 33,
   "id": "88b7f8dd-6d12-498a-914b-b295b14d78a2",
   "metadata": {},
   "outputs": [
    {
     "name": "stderr",
     "output_type": "stream",
     "text": [
      "Iteration 1/15: 100%|██████████| 800/800 [02:47<00:00,  4.78it/s]\n"
     ]
    },
    {
     "name": "stdout",
     "output_type": "stream",
     "text": [
      "Iteration 1/15 Losses: {'ner': 21072.258998938716}\n"
     ]
    },
    {
     "name": "stderr",
     "output_type": "stream",
     "text": [
      "Iteration 2/15: 100%|██████████| 800/800 [02:43<00:00,  4.90it/s]\n"
     ]
    },
    {
     "name": "stdout",
     "output_type": "stream",
     "text": [
      "Iteration 2/15 Losses: {'ner': 3655.7310521945496}\n"
     ]
    },
    {
     "name": "stderr",
     "output_type": "stream",
     "text": [
      "Iteration 3/15: 100%|██████████| 800/800 [02:44<00:00,  4.87it/s]\n"
     ]
    },
    {
     "name": "stdout",
     "output_type": "stream",
     "text": [
      "Iteration 3/15 Losses: {'ner': 2387.563285379872}\n"
     ]
    },
    {
     "name": "stderr",
     "output_type": "stream",
     "text": [
      "Iteration 4/15: 100%|██████████| 800/800 [02:43<00:00,  4.90it/s]\n"
     ]
    },
    {
     "name": "stdout",
     "output_type": "stream",
     "text": [
      "Iteration 4/15 Losses: {'ner': 1824.285329054384}\n"
     ]
    },
    {
     "name": "stderr",
     "output_type": "stream",
     "text": [
      "Iteration 5/15: 100%|██████████| 800/800 [02:46<00:00,  4.81it/s]\n"
     ]
    },
    {
     "name": "stdout",
     "output_type": "stream",
     "text": [
      "Iteration 5/15 Losses: {'ner': 1293.0933566196184}\n"
     ]
    },
    {
     "name": "stderr",
     "output_type": "stream",
     "text": [
      "Iteration 6/15: 100%|██████████| 800/800 [02:43<00:00,  4.90it/s]\n"
     ]
    },
    {
     "name": "stdout",
     "output_type": "stream",
     "text": [
      "Iteration 6/15 Losses: {'ner': 1064.3328172054073}\n"
     ]
    },
    {
     "name": "stderr",
     "output_type": "stream",
     "text": [
      "Iteration 7/15: 100%|██████████| 800/800 [02:43<00:00,  4.90it/s]\n"
     ]
    },
    {
     "name": "stdout",
     "output_type": "stream",
     "text": [
      "Iteration 7/15 Losses: {'ner': 879.7502342678474}\n"
     ]
    },
    {
     "name": "stderr",
     "output_type": "stream",
     "text": [
      "Iteration 8/15: 100%|██████████| 800/800 [02:42<00:00,  4.92it/s]\n"
     ]
    },
    {
     "name": "stdout",
     "output_type": "stream",
     "text": [
      "Iteration 8/15 Losses: {'ner': 863.8062330328215}\n"
     ]
    },
    {
     "name": "stderr",
     "output_type": "stream",
     "text": [
      "Iteration 9/15: 100%|██████████| 800/800 [02:44<00:00,  4.87it/s]\n"
     ]
    },
    {
     "name": "stdout",
     "output_type": "stream",
     "text": [
      "Iteration 9/15 Losses: {'ner': 742.4294944063869}\n"
     ]
    },
    {
     "name": "stderr",
     "output_type": "stream",
     "text": [
      "Iteration 10/15: 100%|██████████| 800/800 [02:41<00:00,  4.96it/s]\n"
     ]
    },
    {
     "name": "stdout",
     "output_type": "stream",
     "text": [
      "Iteration 10/15 Losses: {'ner': 628.7364960028017}\n"
     ]
    },
    {
     "name": "stderr",
     "output_type": "stream",
     "text": [
      "Iteration 11/15: 100%|██████████| 800/800 [02:42<00:00,  4.94it/s]\n"
     ]
    },
    {
     "name": "stdout",
     "output_type": "stream",
     "text": [
      "Iteration 11/15 Losses: {'ner': 535.2589434056188}\n"
     ]
    },
    {
     "name": "stderr",
     "output_type": "stream",
     "text": [
      "Iteration 12/15: 100%|██████████| 800/800 [02:45<00:00,  4.82it/s]\n"
     ]
    },
    {
     "name": "stdout",
     "output_type": "stream",
     "text": [
      "Iteration 12/15 Losses: {'ner': 503.8647681013595}\n"
     ]
    },
    {
     "name": "stderr",
     "output_type": "stream",
     "text": [
      "Iteration 13/15: 100%|██████████| 800/800 [02:43<00:00,  4.90it/s]\n"
     ]
    },
    {
     "name": "stdout",
     "output_type": "stream",
     "text": [
      "Iteration 13/15 Losses: {'ner': 433.8947744667079}\n"
     ]
    },
    {
     "name": "stderr",
     "output_type": "stream",
     "text": [
      "Iteration 14/15: 100%|██████████| 800/800 [02:45<00:00,  4.84it/s]\n"
     ]
    },
    {
     "name": "stdout",
     "output_type": "stream",
     "text": [
      "Iteration 14/15 Losses: {'ner': 425.8595721769032}\n"
     ]
    },
    {
     "name": "stderr",
     "output_type": "stream",
     "text": [
      "Iteration 15/15: 100%|██████████| 800/800 [02:44<00:00,  4.86it/s]"
     ]
    },
    {
     "name": "stdout",
     "output_type": "stream",
     "text": [
      "Iteration 15/15 Losses: {'ner': 331.52891228556234}\n"
     ]
    },
    {
     "name": "stderr",
     "output_type": "stream",
     "text": [
      "\n"
     ]
    }
   ],
   "source": [
    "import spacy\n",
    "from spacy.tokens import DocBin\n",
    "from tqdm import tqdm\n",
    "\n",
    "\n",
    "# Create a blank spaCy model\n",
    "nlp = spacy.blank(\"fr\")\n",
    "\n",
    "# Add a Named Entity Recognition (NER) component to the pipeline\n",
    "ner = nlp.add_pipe(\"ner\")\n",
    "\n",
    "\n",
    "for _, annotations in train_data:\n",
    "    for ent in annotations.get('entities'):\n",
    "        ner.add_label(ent[2])\n",
    "optimizer = nlp.begin_training()\n",
    "# Number of training iterations\n",
    "n_iter = 15\n",
    "\n",
    "# Train the model\n",
    "for itn in range(n_iter):\n",
    "    random.shuffle(train_data)\n",
    "    losses = {}\n",
    "\n",
    "    for text, annotations in tqdm(train_data, desc=f\"Iteration {itn+1}/{n_iter}\"):\n",
    "        doc = nlp.make_doc(text)\n",
    "        # print(doc,annotations)\n",
    "        example = Example.from_dict(doc, annotations)\n",
    "        # print(\"--------------------\")\n",
    "        examples = [example]\n",
    "\n",
    "        # Update the model with the training examples\n",
    "        nlp.update(examples, drop=0.5, losses=losses, sgd=optimizer)\n",
    "\n",
    "    print(f\"Iteration {itn+1}/{n_iter} Losses: {losses}\")"
   ]
  },
  {
   "cell_type": "code",
   "execution_count": 36,
   "id": "e1d3dcbf-00fd-495b-a926-9727127a7eaa",
   "metadata": {},
   "outputs": [],
   "source": [
    "nlp.to_disk('./model')"
   ]
  },
  {
   "cell_type": "code",
   "execution_count": 34,
   "id": "7b3b9d2b-37c8-4d50-929e-f726a2efb446",
   "metadata": {},
   "outputs": [
    {
     "name": "stdout",
     "output_type": "stream",
     "text": [
      "(Anne, Lacroix, Anne, Lacroix)\n",
      "(Laetitia, Olivie, Gautier, Ledoux, Antoine, Weiss, Olivie, Gautier, Weiss, Laetitia, Marchand)\n",
      "(Bazin, Vincent, Marthe, Vincent)\n",
      "()\n",
      "(Valentin, Chauveau, Catherine, Valentin, Gabrielle, Marion, Valentin, Caroline, Chauveau, Adélaïde, Chauveau, Catherine, Valentin, Gabrielle, Marion, Catherine, Valentin, Gabrielle, Marion)\n",
      "(Antoine, Jourdan, Antoine, Jourdan, Antoine, Jourdan, Jourdan, Jourdan, Jourdan, Jourdan, Jourdan, Jourdan, Jourdan)\n",
      "(Nathalie, Charpentier, Charpentier, Charpentier, Charpentier, Marchand)\n",
      "(Françoise, Caron, Caron, Caron, Caron, Caron, Caron)\n",
      "(Charles, André, Charles, Blanc, André, Charles, Blanc)\n",
      "(Gabrielle, Prévost, Guillaume, Gabrielle, Prévost, Maryse, Gosselin, Gabrielle, Prévost, Gabrielle, Prévost, Gabrielle, Prévost, Gabrielle, Prévost, Gabrielle, Prévost, Gabrielle, Prévost, Gabrielle, Prévost, Gabrielle, Prévost, Gabrielle, Prévost, Gabrielle, Prévost, Gabrielle, Prévost, Gabrielle, Prévost, Gabrielle, Prévost, Gabrielle, Prévost, Gabrielle, Prévost)\n",
      "(Jeanne, Delaunay, Raymond, Delaunay, Raymond, Delaunay, Raymond, Delaunay, Raymond, Delaunay, Raymond, Delaunay, Raymond, Delaunay, Delaunay, Delaunay, Delaunay, Delaunay, Raymond, Delaunay, Delaunay, Raymond, Delaunay)\n",
      "(Océane, Jacob, Margaux, Jacob, Nicolas, Sanchez, Océane, Jacob, Margaux, Jacob, Nicolas, Sanchez, Paulette, Picard, Océane, Jacob, Margaux, Jacob, Nicolas, Sanchez, Paulette, Picard, Picard)\n",
      "(Gabrielle, Schmitt)\n",
      "(Jacques, Gaillard, Marie, Dos Santos, Gaillard, Gaillard, Gaillard, Gaillard, Gaillard, Gaillard, Gaillard, Gaillard, Gaillard, Gaillard)\n",
      "(Frédéric, Hardy, Émilie, Gosselin, Hardy, Hardy, Hardy, Hardy, Hardy, Hardy, Hardy, Hardy, Hardy, Hardy, Hardy, Carre, Hardy, Hardy, Hardy, Hardy, Carre, Hardy, Hardy, Carre, Frédéric, Hardy, Frédéric, Hardy, Xavier, Carre, Xavier, Carre, Frédéric, Hardy, Hardy)\n",
      "(Laure, Pereira, Pereira, Laure, Pereira, Pereira, Pereira, Pereira, Pereira, Pereira, Pereira)\n",
      "(Maryse, Julien, Maryse, Julien, Maryse, Julien, Julien, Julien, Julien, Julien, Julien, Julien, Julien, Julien, Julien, Julien, Julien)\n",
      "(Susanne, Benard, Benard, Benard, Benard, Benard, Benard, Benard, Benard, Benard, Benard, Benard)\n",
      "(Joubert, Mathilde, Joubert, Joubert, Joubert, Joubert, Joubert, Joubert, Joubert, Joubert, Joubert, Joubert, Joubert, Joubert, Joubert)\n",
      "(Roger, Gosselin, Perrin, Thibault, Perrin, Gosselin, Gosselin, Gosselin)\n",
      "(Alexandrie, Merle, Foucher, Joseph, Jean, Benoît, Vallée, Pénélope, Fournier, Chantal, Joly, Gay, Merle, Foucher, Jean, Vallée, Fournier, Joly, Gay, Merle, Foucher, Fournier, Joly, Gay, Jean, Vallée, Fournier, Joly, Jean, Vallée, Merle, Foucher, Fournier, Joly, Gay, Jean, Vallée, Merle, Foucher, Fournier, Joly, Gay, Jean, Vallée, Merle, Foucher, Jean, Vallée, Fournier, Joly, Gay, Foucher, Fournier, Gay, Jean, Vallée, Foucher, Fournier, Gay, Jean, Vallée, Jean, Vallée, Fournier, Gay)\n",
      "(Gérard, Sabine, Gérard, Sabine, Gérard, Sabine, Gérard)\n",
      "(Barthelemy, Guillet, Richard, Guillet)\n",
      "(Adrienne, Fleury, Moulin, Sébastien, Moulin, Fleury, Moulin, Fleury, Moulin, Fleury, Moulin, Fleury, Fleury, Moulin, Moulin, Fleury, Fleury, Fleury, Fleury, Fleury)\n",
      "(Adrienne, Françoise, Laine, Françoise, Laine, Françoise, Laine, Françoise, Laine, Françoise, Laine, Adrienne, Françoise, Laine, Françoise, Laine, Françoise, Laine, Françoise, Laine, Françoise, Laine, Françoise, Laine, Françoise, Laine, Robin)\n",
      "(Lucas, Laurent, Thérèse, Laurent, Hebert, Lucas, Guillet, Lucas, Laurent, Lucas, Laurent, Laurent, Hebert, Hebert, Lucas, Guillet, Lucas, Laurent, Hebert, Thérèse, Laurent, Lucas, Guillet, Hebert, Lucas, Guillet, Thérèse, Laurent, Lucas, Laurent, Laurent, Hebert, Lucas, Guillet, Laurent, Hebert, Hebert, Lucas, Guillet)\n",
      "(Hoarau, Lecoq, Bonnin, Martine, Hoarau, Lecoq, Grégoire, Schmitt, Hoarau, Lecoq, Philippe, Bonnin, Jacques, Renaud, Guichard, Martine, Hoarau, Lecoq, Grégoire, Schmitt, Hoarau, Lecoq, Martine, Hoarau, Lecoq, Grégoire, Schmitt, Hoarau, Lecoq, Hoarau, Lecoq)\n",
      "(Honoré, Julien, Julien, Julien, Julien, Julien, Julien)\n",
      "(Astrid, Toussaint, Caroline, Toussaint, Manon, Toussaint, Thomas, Olivie, Toussaint, Auguste, Brunel, Paul, Brunel, Emmanuel, Perrin, Franck, Perrin, Astrid, Toussaint, Caroline, Toussaint, Manon, Toussaint, Thomas, Olivie, Toussaint, Auguste, Brunel, Paul, Brunel, Franck, Perrin, Emmanuel, Perrin, Astrid, Toussaint, Caroline, Toussaint, Manon, Toussaint, Thomas, Olivie, Toussaint, Auguste, Brunel, Paul, Brunel, Franck, Perrin, Emmanuel, Perrin, Toussaint, Brunel, Perrin, Toussaint, Brunel, Perrin, Astrid, Toussaint, Caroline, Toussaint, Manon, Toussaint, Thomas, Olivie, Toussaint, Auguste, Brunel, Paul, Brunel, Franck, Perrin, Emmanuel, Perrin, Astrid, Caroline, Toussaint, Manon, Toussaint, Thomas, Olivie, Toussaint, Auguste, Brunel, Paul, Brunel, Franck, Perrin, Emmanuel, Perrin, Toussaint, Brunel, Perrin, Toussaint, Brunel, Perrin)\n",
      "()\n",
      "(Lucie, Collet, Navarro, Collet, Collet, Collet, Navarro, Collet, Navarro, Collet, Navarro, Blondel, Collet, Navarro, Fischer, Collet, Navarro, Collet, Navarro, Collet, Navarro, Navarro, Collet, Navarro)\n",
      "(Delorme,)\n",
      "(Poulain, Vaillant)\n",
      "(Marie, Chevalier, Chevalier, Coulon, Coulon, Coulon, Coulon, Coulon, Coulon, Coulon)\n",
      "(Roy, Astrid, Blin, Brigitte, Roy, Tristan, Becker, Astrid, Blin, Astrid, Blin)\n",
      "(Paul, Lopez, Lopez, Lopez, Lopez, Lopez, Lopez)\n",
      "(Bernadette, Langlois, Langlois, Langlois, Langlois, Langlois, Bernadette, Langlois, Bernadette, Langlois, Bernadette, Langlois, Langlois, Bernadette, Langlois, Bernadette, Langlois, Bernadette, Langlois, Gauthier, Langlois, Chauveau, Bernadette, Langlois, Langlois, Bernadette, Langlois, Langlois, Bernadette, Langlois, Langlois, Langlois, Langlois, Bernadette, Langlois, Bernadette, Langlois, Bernadette, Langlois, Bernadette, Langlois, Bernadette, Langlois, Gauthier, Langlois, Chauveau, Bernadette, Bernadette, Langlois, Langlois, Bernadette, Langlois, Langlois, Bernadette, Langlois)\n",
      "(Lucas, Leblanc, Jacquet, Leblanc, Leblanc, Leblanc, Leblanc)\n",
      "()\n",
      "(Denise, Germain, Germain, Germain, Germain, Germain, Germain, Germain, Germain, Germain, Germain, Germain, Germain, Foucher, Germain, Faivre, Germain, Rémy, Germain, Germain, Germain, Germain, Germain, Rémy, Germain, Germain, Germain)\n",
      "(Langlois, Hervé, Eugène, Hervé)\n",
      "(Théodore, Menard, Thomas, Roux, Menard, Christophe, Menard, Claire, Menard, Théodore, Menard, Thomas, Roux, Christophe, Claire, Menard, Théodore, Menard, Théodore, Menard, Thomas, Roux, Christophe, Claire, Menard, Théodore, Menard, Théodore, Menard, Thomas, Roux, Christophe, Claire, Menard, Théodore, Menard, Émile, Menard)\n",
      "(Martine, Renaud, Renaud, Renaud, Lefort, Renaud, Renaud, Rodriguez, Picard, Renaud, Renaud, Rodriguez, Picard, Renaud, Renaud, Renaud, Renaud, Renaud, Renaud, Renaud, Renaud, Lefort, Lefort, Renaud, Renaud, Royer, Renaud, Renaud, Renaud, Renaud, Renaud, Renaud, Renaud, Rodriguez, Picard, Renaud, Renaud, Renaud, Renaud, Renaud, Renaud, Renaud, Renaud)\n",
      "(Delattre, Honoré, Delattre, Honoré, Delattre)\n",
      "(Pereira, Pereira, Jeanne, Pereira, Raynaud, Emmanuelle, Pereira, Éric, Pereira, Lorraine, Pereira, Pierre, Pereira, Thomas, Pereira, Laure, Pereira, Pereira, Pereira, Pereira, Pereira, Pereira, Pereira, Pereira, Pereira, Pereira, Pereira, Pereira, Pereira, Pereira, Pereira, Pereira, Pereira, Pereira, Pereira, Pereira, Pereira, Pereira, Pereira)\n",
      "()\n",
      "(Brunet, Leclerc, Danielle, Brunet, Danielle, Blanchard, Brunet, Luc, Leclerc, Gabrielle, Didier, Leclerc, Danielle, Brunet, Danielle, Blanchard, Danielle, Brunet, Danielle, Blanchard)\n",
      "()\n",
      "(André, Peltier, Alice, André, Peltier, Alice, André, Peltier, Alice, André, Peltier)\n",
      "(Célina, Michel)\n"
     ]
    }
   ],
   "source": [
    "for text, _ in train_data[:50]:\n",
    "    doc = nlp(text)\n",
    "    print(doc.ents)\n"
   ]
  },
  {
   "cell_type": "code",
   "execution_count": 35,
   "id": "06c3610f-9a11-4b8a-ae43-2dd21b0f6651",
   "metadata": {},
   "outputs": [
    {
     "data": {
      "text/plain": [
       "{'token_acc': 1.0,\n",
       " 'token_p': 1.0,\n",
       " 'token_r': 1.0,\n",
       " 'token_f': 1.0,\n",
       " 'sents_p': None,\n",
       " 'sents_r': None,\n",
       " 'sents_f': None,\n",
       " 'tag_acc': None,\n",
       " 'pos_acc': None,\n",
       " 'morph_acc': None,\n",
       " 'morph_micro_p': None,\n",
       " 'morph_micro_r': None,\n",
       " 'morph_micro_f': None,\n",
       " 'morph_per_feat': None,\n",
       " 'dep_uas': None,\n",
       " 'dep_las': None,\n",
       " 'dep_las_per_type': None,\n",
       " 'ents_p': 0.9678044057129025,\n",
       " 'ents_r': 0.9808635917566242,\n",
       " 'ents_f': 0.9742902400389911,\n",
       " 'ents_per_type': {'PROTAGONISTS': {'p': 0.9678044057129025,\n",
       "   'r': 0.9808635917566242,\n",
       "   'f': 0.9742902400389911}},\n",
       " 'cats_score': 0.0,\n",
       " 'cats_score_desc': 'macro F',\n",
       " 'cats_micro_p': 0.0,\n",
       " 'cats_micro_r': 0.0,\n",
       " 'cats_micro_f': 0.0,\n",
       " 'cats_macro_p': 0.0,\n",
       " 'cats_macro_r': 0.0,\n",
       " 'cats_macro_f': 0.0,\n",
       " 'cats_macro_auc': 0.0,\n",
       " 'cats_f_per_type': {},\n",
       " 'cats_auc_per_type': {}}"
      ]
     },
     "execution_count": 35,
     "metadata": {},
     "output_type": "execute_result"
    }
   ],
   "source": [
    "import spacy\n",
    "from spacy.training.example import Example\n",
    "from sklearn.metrics import precision_score, recall_score, f1_score\n",
    "from spacy.scorer import Scorer\n",
    "\n",
    "examples = []\n",
    "scorer = Scorer()\n",
    "for text, annotations in eval_data:\n",
    "    doc = nlp.make_doc(text)\n",
    "    example = Example.from_dict(doc, annotations)\n",
    "    example.predicted = nlp(str(example.predicted))\n",
    "    examples.append(example)\n",
    "scorer.score(examples)"
   ]
  },
  {
   "cell_type": "code",
   "execution_count": null,
   "id": "fe0b9dfb-5d6b-434d-b25e-28602d69bf86",
   "metadata": {},
   "outputs": [],
   "source": []
  },
  {
   "cell_type": "code",
   "execution_count": null,
   "id": "ce626bfc-a27d-44e5-9be5-c611f88bc9fb",
   "metadata": {},
   "outputs": [],
   "source": [
    "\n"
   ]
  },
  {
   "cell_type": "code",
   "execution_count": null,
   "id": "e682bdcc-10e0-4534-9c5e-34b8cbc5c270",
   "metadata": {},
   "outputs": [],
   "source": []
  },
  {
   "cell_type": "code",
   "execution_count": null,
   "id": "66a9e8fd-2979-4c71-abe4-bb129937e317",
   "metadata": {},
   "outputs": [],
   "source": []
  }
 ],
 "metadata": {
  "kernelspec": {
   "display_name": "Conda",
   "language": "python",
   "name": "python3"
  },
  "language_info": {
   "codemirror_mode": {
    "name": "ipython",
    "version": 3
   },
   "file_extension": ".py",
   "mimetype": "text/x-python",
   "name": "python",
   "nbconvert_exporter": "python",
   "pygments_lexer": "ipython3",
   "version": "3.11.4"
  }
 },
 "nbformat": 4,
 "nbformat_minor": 5
}
